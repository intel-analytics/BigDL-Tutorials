{
 "cells": [
  {
   "cell_type": "markdown",
   "metadata": {},
   "source": [
    "# Introduction to the MNIST database"
   ]
  },
  {
   "cell_type": "markdown",
   "metadata": {},
   "source": [
    "In the following tutorials, we are going to use the MNIST database of handwritten digits. MNIST is a simple computer vision dataset of handwritten digits. It has 60,000 training examles and 10,000 test examples. \"It is a good database for people who want to try learning techniques and pattern recognition methods on real-world data while spending minimal efforts on preprocessing and formatting.\" For more details of this database, please checkout the [MNIST](http://yann.lecun.com/exdb/mnist/) website."
   ]
  },
  {
   "cell_type": "markdown",
   "metadata": {},
   "source": [
    "Let's start our experiment by importing some necessary packages and initializing the engine first."
   ]
  },
  {
   "cell_type": "code",
   "execution_count": 1,
   "metadata": {},
   "outputs": [
    {
     "name": "stdout",
     "output_type": "stream",
     "text": [
      "Populating the interactive namespace from numpy and matplotlib\n"
     ]
    }
   ],
   "source": [
    "import matplotlib\n",
    "matplotlib.use('Agg')\n",
    "# As always, a bit of setup\n",
    "%pylab inline\n",
    "import pandas\n",
    "from bigdl.dataset import mnist\n",
    "from bigdl.util.common import *\n",
    "import matplotlib.pyplot as plt\n",
    "from pyspark import SparkContext\n",
    "from matplotlib.pyplot import imshow\n",
    "\n",
    "sc=SparkContext.getOrCreate(conf=create_spark_conf().setMaster(\"local[4]\").set(\"spark.driver.memory\",\"2g\"))\n",
    "init_engine()"
   ]
  },
  {
   "cell_type": "markdown",
   "metadata": {},
   "source": [
    "In BigDL, we have already provided a utility method called *mnist.read_data_sets* to download and read the MNIST data into memory as numpy ndarray."
   ]
  },
  {
   "cell_type": "code",
   "execution_count": 3,
   "metadata": {},
   "outputs": [
    {
     "name": "stdout",
     "output_type": "stream",
     "text": [
      "Downloading data from http://yann.lecun.com/exdb/mnist/train-images-idx3-ubyte.gz\n",
      "9846784/9912422 [============================>.] - ETA: 0sSuccessfully downloaded train-images-idx3-ubyte.gz 9912422 bytes.\n",
      "Extracting datasets/mnist/train-images-idx3-ubyte.gz\n",
      "Downloading data from http://yann.lecun.com/exdb/mnist/train-labels-idx1-ubyte.gz\n",
      " 8192/28881 [=======>......................] - ETA: 0sSuccessfully downloaded train-labels-idx1-ubyte.gz 28881 bytes.\n",
      "Extracting datasets/mnist/train-labels-idx1-ubyte.gz\n",
      "Downloading data from http://yann.lecun.com/exdb/mnist/t10k-images-idx3-ubyte.gz\n",
      "1556480/1648877 [===========================>..] - ETA: 0sSuccessfully downloaded t10k-images-idx3-ubyte.gz 1648877 bytes.\n",
      "Extracting datasets/mnist/t10k-images-idx3-ubyte.gz\n",
      "Downloading data from http://yann.lecun.com/exdb/mnist/t10k-labels-idx1-ubyte.gz\n",
      "8192/4542 [======================================================] - 0s\n",
      "Successfully downloaded t10k-labels-idx1-ubyte.gz 4542 bytes.\n",
      "Extracting datasets/mnist/t10k-labels-idx1-ubyte.gz\n",
      "(60000, 28, 28, 1)\n",
      "(60000,)\n",
      "(10000, 28, 28, 1)\n",
      "(10000,)\n"
     ]
    }
   ],
   "source": [
    "mnist_path = \"datasets/mnist\"\n",
    "(train_images, train_labels) = mnist.read_data_sets(mnist_path, \"train\")\n",
    "(test_images, test_labels) = mnist.read_data_sets(mnist_path, \"test\")\n",
    "\n",
    "print (train_images.shape)\n",
    "print (train_labels.shape)\n",
    "print (test_images.shape)\n",
    "print (test_labels.shape)"
   ]
  },
  {
   "cell_type": "markdown",
   "metadata": {},
   "source": [
    "The training set consists of 60,000 examples and the test set consits of 10,000 examples. Each example is a 28x28 pixel image represting a handwritten digit. Let's see some first ten examples and their labels."
   ]
  },
  {
   "cell_type": "code",
   "execution_count": 4,
   "metadata": {},
   "outputs": [
    {
     "name": "stdout",
     "output_type": "stream",
     "text": [
      "groud true labels: \n",
      "[5 0 4 1 9 2 1 3 1 4]\n"
     ]
    },
    {
     "data": {
      "image/png": "[encoded data removed]",
      "text/plain": [
       "<Figure size 432x288 with 1 Axes>"
      ]
     },
     "metadata": {},
     "output_type": "display_data"
    }
   ],
   "source": [
    "imshow(np.column_stack(train_images[0:10].reshape(10, 28,28)),cmap='gray'); plt.axis('off')\n",
    "print (\"groud true labels: \")\n",
    "print (train_labels[0:10])"
   ]
  },
  {
   "cell_type": "markdown",
   "metadata": {},
   "source": [
    "To use mnist dataset in Bigdl, we have to transform the ndarrays to rdd of Sample. And since neural networks tend to work better with zero-mean and unit variance data, we'd better normalize the images before fed into the model. We created a small utility method called `get_mnist` for you to simplify the standardization process. You can find it in the *utils.py* file under the same directory of this notebook. For convenience, we'll just put the code here to review the code quickly."
   ]
  },
  {
   "cell_type": "code",
   "execution_count": 5,
   "metadata": {},
   "outputs": [],
   "source": [
    "def get_mnist(sc, mnist_path):\n",
    "    # target is start from 0,\n",
    "    (train_images, train_labels) = mnist.read_data_sets(mnist_path, \"train\")\n",
    "    (test_images, test_labels) = mnist.read_data_sets(mnist_path, \"test\")\n",
    "    training_mean = np.mean(train_images)\n",
    "    training_std = np.std(train_images)\n",
    "    rdd_train_images = sc.parallelize(train_images)\n",
    "    rdd_train_labels = sc.parallelize(train_labels)\n",
    "    rdd_test_images = sc.parallelize(test_images)\n",
    "    rdd_test_labels = sc.parallelize(test_labels)\n",
    "    \n",
    "    rdd_train_sample = rdd_train_images.zip(rdd_train_labels).map(lambda kv:\n",
    "                    Sample.from_ndarray((kv[0] - training_mean)/training_std, kv[1] + 1))\n",
    "    rdd_test_sample = rdd_test_images.zip(rdd_test_labels).map(lambda kv:\n",
    "                    Sample.from_ndarray((kv[0] - training_mean)/training_std, kv[1] + 1))\n",
    "    return (rdd_train_sample, rdd_test_sample)\n"
   ]
  },
  {
   "cell_type": "code",
   "execution_count": 7,
   "metadata": {},
   "outputs": [
    {
     "name": "stdout",
     "output_type": "stream",
     "text": [
      "Extracting datasets/mnist/train-images-idx3-ubyte.gz\n",
      "Extracting datasets/mnist/train-labels-idx1-ubyte.gz\n",
      "Extracting datasets/mnist/t10k-images-idx3-ubyte.gz\n",
      "Extracting datasets/mnist/t10k-labels-idx1-ubyte.gz\n",
      "60000\n",
      "10000\n"
     ]
    }
   ],
   "source": [
    "(train_data, test_data) = get_mnist(sc, mnist_path)\n",
    "print (train_data.count())\n",
    "print (test_data.count())"
   ]
  },
  {
   "cell_type": "markdown",
   "metadata": {
    "collapsed": true
   },
   "source": [
    "The function *get_minst()* is very useful and we write it to a file named *utils.py*. It will be imported in later tutorials."
   ]
  }
 ],
 "metadata": {
  "kernelspec": {
   "display_name": "Python 3",
   "language": "python",
   "name": "python3"
  }
 },
 "nbformat": 4,
 "nbformat_minor": 2
}
