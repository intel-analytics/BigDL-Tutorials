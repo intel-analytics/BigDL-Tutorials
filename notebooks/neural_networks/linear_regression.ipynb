{
 "cells": [
  {
   "cell_type": "markdown",
   "metadata": {},
   "source": [
    "# Linear Regression"
   ]
  },
  {
   "cell_type": "markdown",
   "metadata": {},
   "source": [
    "In this tutorial, we will introduce how to use BigDL to train to a simple linear regression model. The first thing we need to do it to import necessary packages and inilialize the engine."
   ]
  },
  {
   "cell_type": "code",
   "execution_count": 1,
   "metadata": {},
   "outputs": [
    {
     "name": "stdout",
     "output_type": "stream",
     "text": [
      "Populating the interactive namespace from numpy and matplotlib\n"
     ]
    }
   ],
   "source": [
    "%pylab inline\n",
    "import pandas\n",
    "import datetime as dt\n",
    "\n",
    "from bigdl.nn.layer import *\n",
    "from bigdl.nn.criterion import *\n",
    "from bigdl.optim.optimizer import *\n",
    "from bigdl.util.common import *\n",
    "from bigdl.util.common import Sample\n",
    "from bigdl.dataset.transformer import *\n",
    "\n",
    "init_engine()"
   ]
  },
  {
   "cell_type": "markdown",
   "metadata": {},
   "source": [
    "Then we randomly create datasets for training."
   ]
  },
  {
   "cell_type": "code",
   "execution_count": 2,
   "metadata": {},
   "outputs": [],
   "source": [
    "FEATURES_DIM = 2\n",
    "data_len = 100\n",
    "\n",
    "def gen_rand_sample():\n",
    "    features = np.random.uniform(0, 1, (FEATURES_DIM))\n",
    "    label = (2 * features).sum() + 0.4\n",
    "    return Sample.from_ndarray(features, label)\n",
    "\n",
    "rdd_train = sc.parallelize(range(0, data_len)).map( lambda i: gen_rand_sample() )"
   ]
  },
  {
   "cell_type": "markdown",
   "metadata": {
    "collapsed": true
   },
   "source": [
    "Then we specify the necessary parameters and construct a linear regression model using BigDL."
   ]
  },
  {
   "cell_type": "code",
   "execution_count": 3,
   "metadata": {},
   "outputs": [
    {
     "name": "stdout",
     "output_type": "stream",
     "text": [
      "creating: createSequential\n",
      "creating: createLinear\n"
     ]
    }
   ],
   "source": [
    "# Parameters\n",
    "learning_rate = 0.2\n",
    "training_epochs = 5\n",
    "batch_size = 5\n",
    "n_input = FEATURES_DIM\n",
    "n_output = 1 \n",
    "\n",
    "def linear_regression(n_input, n_output):\n",
    "    # Initialize a sequential container\n",
    "    model = Sequential()  \n",
    "    # Add a linear layer\n",
    "    model.add(Linear(n_input, n_output))\n",
    " \n",
    "    return model\n",
    "\n",
    "model = linear_regression(n_input, n_output)"
   ]
  },
  {
   "cell_type": "code",
   "execution_count": 4,
   "metadata": {},
   "outputs": [
    {
     "name": "stdout",
     "output_type": "stream",
     "text": [
      "creating: createMSECriterion\n",
      "creating: createMaxEpoch\n",
      "creating: createOptimizer\n"
     ]
    }
   ],
   "source": [
    "# Create an Optimizer\n",
    "state = {\"learningRate\": learning_rate}\n",
    "\n",
    "optimizer = Optimizer(\n",
    "    model=model,\n",
    "    training_rdd=rdd_train,\n",
    "    criterion=MSECriterion(),\n",
    "    optim_method=\"SGD\",\n",
    "    state=state,\n",
    "    end_trigger=MaxEpoch(training_epochs),\n",
    "    batch_size=batch_size)"
   ]
  },
  {
   "cell_type": "code",
   "execution_count": 5,
   "metadata": {},
   "outputs": [],
   "source": [
    "# Start to train\n",
    "trained_model = optimizer.optimize()"
   ]
  },
  {
   "cell_type": "code",
   "execution_count": 6,
   "metadata": {},
   "outputs": [
    {
     "name": "stdout",
     "output_type": "stream",
     "text": [
      "predict predict: \n",
      "\n",
      "[-0.615399]\n",
      "\n",
      "[-0.62381315]\n",
      "\n",
      "[-0.51902628]\n",
      "\n",
      "[-0.66682398]\n",
      "\n",
      "[-0.63017678]\n",
      "\n"
     ]
    }
   ],
   "source": [
    "# Print the first five predicted results of training data.\n",
    "predict_result = trained_model.predict(rdd_train)\n",
    "p = predict_result.take(5)\n",
    "\n",
    "print(\"predict predict: \\n\")\n",
    "for i in p:\n",
    "    print(str(i) + \"\\n\")"
   ]
  },
  {
   "cell_type": "markdown",
   "metadata": {},
   "source": [
    "To test the trained model, we construct a dataset for testing and print the result of *Mean Square Error*."
   ]
  },
  {
   "cell_type": "code",
   "execution_count": 7,
   "metadata": {},
   "outputs": [
    {
     "name": "stdout",
     "output_type": "stream",
     "text": [
      "0.0820675\n"
     ]
    }
   ],
   "source": [
    "def test_predict(trained_model):\n",
    "    np.random.seed(100)\n",
    "    total_length = 10\n",
    "    features = np.random.uniform(0, 1, (total_length, 2))\n",
    "    label = (features).sum() + 0.4\n",
    "    predict_data = sc.parallelize(range(0, total_length)).map(\n",
    "        lambda i: Sample.from_ndarray(features[i], label))\n",
    "    \n",
    "    predict_result = trained_model.predict(predict_data)\n",
    "    p = predict_result.take(6)\n",
    "    ground_label = np.array([[-0.47596836], [-0.37598032], [-0.00492062],\n",
    "                                 [-0.5906958], [-0.12307882], [-0.77907401]], dtype=\"float32\")\n",
    "    mse = ((p - ground_label) ** 2).mean()\n",
    "    print mse\n",
    "    \n",
    "test_predict(trained_model)"
   ]
  }
 ],
 "metadata": {
  "kernelspec": {
   "display_name": "Python 2",
   "language": "python",
   "name": "python2"
  },
  "language_info": {
   "codemirror_mode": {
    "name": "ipython",
    "version": 2
   },
   "file_extension": ".py",
   "mimetype": "text/x-python",
   "name": "python",
   "nbconvert_exporter": "python",
   "pygments_lexer": "ipython2",
   "version": "2.7.10"
  }
 },
 "nbformat": 4,
 "nbformat_minor": 2
}
