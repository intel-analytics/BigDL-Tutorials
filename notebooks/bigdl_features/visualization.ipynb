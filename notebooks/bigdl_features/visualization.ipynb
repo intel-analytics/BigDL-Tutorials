{
 "cells": [
  {
   "cell_type": "markdown",
   "metadata": {},
   "source": [
    "# Visualizing learning in BigDL"
   ]
  },
  {
   "cell_type": "markdown",
   "metadata": {},
   "source": [
    "In this example, we are going to use the [MNIST dataset](http://yann.lecun.com/exdb/mnist/) to train a [lenet-5](http://yann.lecun.com/exdb/lenet/) model, and visualize this training using jupyter and tensorboard."
   ]
  },
  {
   "cell_type": "code",
   "execution_count": 1,
   "metadata": {},
   "outputs": [
    {
     "name": "stdout",
     "output_type": "stream",
     "text": [
      "Populating the interactive namespace from numpy and matplotlib\n",
      "/home/xin/IntelAnalytics/BigDL-Tutorials2/notebooks/neural_networks\n"
     ]
    }
   ],
   "source": [
    "import matplotlib\n",
    "matplotlib.use('Agg')\n",
    "%pylab inline\n",
    "\n",
    "import datetime as dt\n",
    "import tempfile\n",
    "\n",
    "import sys\n",
    "print(os.path.abspath(os.path.join('../neural_networks')))\n",
    "sys.path.append(os.path.abspath(os.path.join('../neural_networks')))\n",
    "from utils import get_mnist\n",
    "\n",
    "from bigdl.nn.layer import *\n",
    "from bigdl.nn.criterion import *\n",
    "from bigdl.optim.optimizer import *\n",
    "from bigdl.util.common import *\n",
    "from bigdl.dataset.transformer import *\n",
    "from bigdl.dataset import mnist\n",
    "from matplotlib.pyplot import imshow\n",
    "import matplotlib.pyplot as plt\n",
    "from pyspark import SparkContext\n",
    "from IPython.display import Markdown, display\n",
    "\n",
    "sc=SparkContext.getOrCreate(conf=create_spark_conf().setMaster(\"local[4]\").set(\"spark.driver.memory\",\"2g\"))\n",
    "\n",
    "init_engine()"
   ]
  },
  {
   "cell_type": "markdown",
   "metadata": {},
   "source": [
    "## 1. Train the network"
   ]
  },
  {
   "cell_type": "markdown",
   "metadata": {},
   "source": [
    "* prepare training and validation samples"
   ]
  },
  {
   "cell_type": "markdown",
   "metadata": {},
   "source": [
    "Please edit the \"mnist_path\" accordingly. If the \"mnist_path\" directory does not consist of the mnist data, mnist.read_data_sets method will download the dataset directly to the directory."
   ]
  },
  {
   "cell_type": "code",
   "execution_count": 2,
   "metadata": {},
   "outputs": [
    {
     "name": "stdout",
     "output_type": "stream",
     "text": [
      "('Extracting', 'datasets/mnist/train-images-idx3-ubyte.gz')\n",
      "('Extracting', 'datasets/mnist/train-labels-idx1-ubyte.gz')\n",
      "('Extracting', 'datasets/mnist/t10k-images-idx3-ubyte.gz')\n",
      "('Extracting', 'datasets/mnist/t10k-labels-idx1-ubyte.gz')\n",
      "60000\n",
      "10000\n"
     ]
    }
   ],
   "source": [
    "# Get and store MNIST into RDD of Sample, please edit the \"mnist_path\" accordingly.\n",
    "mnist_path = \"datasets/mnist\"\n",
    "(train_data, test_data) = get_mnist(sc, mnist_path)\n",
    "\n",
    "print train_data.count()\n",
    "print test_data.count()"
   ]
  },
  {
   "cell_type": "markdown",
   "metadata": {},
   "source": [
    "* create the LeNet-5 model"
   ]
  },
  {
   "cell_type": "code",
   "execution_count": 3,
   "metadata": {},
   "outputs": [
    {
     "name": "stdout",
     "output_type": "stream",
     "text": [
      "creating: createReshape\n",
      "creating: createSpatialConvolution\n",
      "creating: createTanh\n",
      "creating: createSpatialMaxPooling\n",
      "creating: createTanh\n",
      "creating: createSpatialConvolution\n",
      "creating: createSpatialMaxPooling\n",
      "creating: createReshape\n",
      "creating: createLinear\n",
      "creating: createTanh\n",
      "creating: createLinear\n",
      "creating: createLogSoftMax\n",
      "creating: createModel\n"
     ]
    }
   ],
   "source": [
    "# Create a LeNet model\n",
    "def build_model(class_num):\n",
    "    input = Reshape([1, 28, 28]).set_name(\"reshape_1_28_28\")()\n",
    "    conv1 = SpatialConvolution(1, 6, 5, 5).set_name(\"conv1_5x5\")(input)\n",
    "    tanh1 = Tanh().set_name(\"tanh1\")(conv1)\n",
    "    pool1 = SpatialMaxPooling(2, 2, 2, 2).set_name(\"pool1_2x2\")(tanh1)\n",
    "    tanh2 = Tanh().set_name(\"tanh2\")(pool1)\n",
    "    conv2 = SpatialConvolution(6, 12, 5, 5).set_name(\"conv2_5x5\")(tanh2)\n",
    "    pool2 = SpatialMaxPooling(2, 2, 2, 2).set_name(\"pool2_2x2\")(conv2)\n",
    "    reshape = Reshape([12 * 4 * 4]).set_name(\"reshape_192\")(pool2)\n",
    "    fc1 = Linear(12 * 4 * 4, 100).set_name(\"fc_192_100\")(reshape)\n",
    "    tanh3 = Tanh().set_name(\"tanh3\")(fc1)\n",
    "    fc2 = Linear(100, class_num).set_name(\"fc_100_\" + str(class_num))(tanh3)\n",
    "    output = LogSoftMax().set_name(\"classifier\")(fc2)\n",
    "\n",
    "    model = Model(input, output)\n",
    "    return model\n",
    "lenet_model = build_model(10)"
   ]
  },
  {
   "cell_type": "markdown",
   "metadata": {},
   "source": [
    "* configure optimizer"
   ]
  },
  {
   "cell_type": "code",
   "execution_count": 4,
   "metadata": {},
   "outputs": [
    {
     "name": "stdout",
     "output_type": "stream",
     "text": [
      "creating: createClassNLLCriterion\n",
      "creating: createDefault\n",
      "creating: createSGD\n",
      "creating: createMaxEpoch\n",
      "creating: createDistriOptimizer\n",
      "creating: createEveryEpoch\n",
      "creating: createTop1Accuracy\n",
      "creating: createClassNLLCriterion\n",
      "creating: createLoss\n"
     ]
    }
   ],
   "source": [
    "# Create an Optimizer\n",
    "\n",
    "optimizer = Optimizer(\n",
    "    model=lenet_model,\n",
    "    training_rdd=train_data,\n",
    "    criterion=ClassNLLCriterion(),\n",
    "    optim_method=SGD(learningrate=0.4, learningrate_decay=0.0002),\n",
    "    end_trigger=MaxEpoch(5),\n",
    "    batch_size=256)\n",
    "\n",
    "# Set the validation logic\n",
    "optimizer.set_validation(\n",
    "    batch_size=256,\n",
    "    val_rdd=test_data,\n",
    "    trigger=EveryEpoch(),\n",
    "    val_method=[Top1Accuracy(), Loss()]\n",
    ")"
   ]
  },
  {
   "cell_type": "markdown",
   "metadata": {},
   "source": [
    "* Will create a TrainSummary and a ValSummary and set them to Optimizer to enable metrics collecting. By default, BigDL only collect throughput, loss, and validation result during the Training. We can use \n",
    "`train_summary.set_summary_trigger` to enable more metrics, like `Parameters` and `LearningRate`."
   ]
  },
  {
   "cell_type": "code",
   "execution_count": 5,
   "metadata": {},
   "outputs": [
    {
     "name": "stdout",
     "output_type": "stream",
     "text": [
      "creating: createTrainSummary\n",
      "creating: createSeveralIteration\n",
      "creating: createSeveralIteration\n",
      "creating: createValidationSummary\n",
      "Will saving logs to /tmp/tmpvE6hzB/lenet-20180110-102403\n"
     ]
    },
    {
     "data": {
      "text/markdown": [
       "You can run shell command, **tensorboard --logdir=/tmp/tmpvE6hzB**, to visualize this training"
      ],
      "text/plain": [
       "<IPython.core.display.Markdown object>"
      ]
     },
     "metadata": {},
     "output_type": "display_data"
    },
    {
     "name": "stdout",
     "output_type": "stream",
     "text": [
      "Optimization Done.\n"
     ]
    }
   ],
   "source": [
    "log_dir=tempfile.mkdtemp() # use a tmp folder\n",
    "app_name='lenet-'+dt.datetime.now().strftime(\"%Y%m%d-%H%M%S\")\n",
    "# create TrainSummary\n",
    "train_summary = TrainSummary(log_dir=log_dir, app_name=app_name)\n",
    "train_summary.set_summary_trigger(\"Parameters\", SeveralIteration(50))\n",
    "train_summary.set_summary_trigger(\"LearningRate\", SeveralIteration(1))\n",
    "# create ValSummary\n",
    "val_summary = ValidationSummary(log_dir=log_dir, app_name=app_name)\n",
    "# set TrainSummary and ValSummary to \n",
    "optimizer.set_train_summary(train_summary)\n",
    "optimizer.set_val_summary(val_summary)\n",
    "\n",
    "print \"Will saving logs to\",log_dir + \"/\" + app_name\n",
    "display(Markdown(\"You can run shell command, **tensorboard --logdir=%s**, to visualize this training\" % log_dir))\n",
    "\n",
    "# Boot training process\n",
    "trained_model = optimizer.optimize()\n",
    "print \"Optimization Done.\""
   ]
  },
  {
   "cell_type": "markdown",
   "metadata": {},
   "source": [
    "## 2. Visualization"
   ]
  },
  {
   "cell_type": "markdown",
   "metadata": {},
   "source": [
    "* During the training, you can run tensorboard command showed below to visualize the training metrics, like LearningRate curve, Loss curve, and Paramters's histogram."
   ]
  },
  {
   "cell_type": "markdown",
   "metadata": {},
   "source": [
    "Run tensorboard command(tensorboard --logdir=/tmp/tmpvE6hzB, notice logdir will change in each run) to start tensorboard: \n",
    "\n",
    "![scalars](pictures/tb-start.png)\n",
    "\n",
    "You can add command flag `--port` to use another port, if the defaut 6006 is unavailable."
   ]
  },
  {
   "cell_type": "markdown",
   "metadata": {},
   "source": [
    "Then, open your browser and type in TensorBoard's http address. From tensorboard's scalar tab, you can see the LearningRate curve and Loss curve like this:\n",
    "![scalars](pictures/tb-scalars.png)"
   ]
  },
  {
   "cell_type": "markdown",
   "metadata": {},
   "source": [
    "Open the DISTRIBUTIONS tab, you can see the learnable parameters' distribution during the training:\n",
    "![distributions](pictures/tb-distributions.png)"
   ]
  },
  {
   "cell_type": "markdown",
   "metadata": {},
   "source": [
    "* You can also use `Model.save_graph_topology` method to save graph's topology, and visualize the graph in TensorBoard."
   ]
  },
  {
   "cell_type": "code",
   "execution_count": 6,
   "metadata": {},
   "outputs": [
    {
     "name": "stdout",
     "output_type": "stream",
     "text": [
      "Saving graph topology to /tmp/tmpvE6hzB/lenet-20180110-102403/lenet-model\n"
     ]
    }
   ],
   "source": [
    "lenet_model.save_graph_topology(log_dir + \"/\" + app_name + \"/lenet-model\")\n",
    "print \"Saving graph topology to\", log_dir + \"/\" + app_name + \"/lenet-model\""
   ]
  },
  {
   "cell_type": "markdown",
   "metadata": {},
   "source": [
    "Open the graph tab in TensorBoard, you can see the model's topology:\n",
    "![graph](pictures/tb-graph.png)"
   ]
  },
  {
   "cell_type": "markdown",
   "metadata": {},
   "source": [
    "* BigDL also provide `read_scalar()` method to read scalar type metrics, like Loss and Top1Accuracy.\n",
    "We can read training Loss, learning rate and Top1Accuracy, then draw three curves easily using matplotlib. "
   ]
  },
  {
   "cell_type": "code",
   "execution_count": 7,
   "metadata": {
    "scrolled": true
   },
   "outputs": [
    {
     "data": {
      "text/plain": [
       "<matplotlib.text.Text at 0x7f88adb69dd0>"
      ]
     },
     "execution_count": 7,
     "metadata": {},
     "output_type": "execute_result"
    },
    {
     "data": {
      "image/png": "[encoded data removed]",
      "text/plain": [
       "<matplotlib.figure.Figure at 0x7f88adab9090>"
      ]
     },
     "metadata": {},
     "output_type": "display_data"
    }
   ],
   "source": [
    "loss = np.array(train_summary.read_scalar(\"Loss\"))\n",
    "lr = np.array(train_summary.read_scalar(\"LearningRate\"))\n",
    "top1 = np.array(val_summary.read_scalar(\"Top1Accuracy\"))\n",
    "\n",
    "plt.figure(figsize = (12,12))\n",
    "plt.subplot(3,1,1)\n",
    "plt.plot(loss[:,0],loss[:,1],label='loss')\n",
    "plt.xlim(0,loss.shape[0]+10)\n",
    "plt.grid(True)\n",
    "plt.title(\"training loss\")\n",
    "\n",
    "plt.subplot(3,1,2)\n",
    "plt.plot(lr[:,0],lr[:,1],label='lr')\n",
    "plt.xlim(0,lr.shape[0]+10)\n",
    "plt.title(\"learning rate\")\n",
    "plt.grid(True)\n",
    "\n",
    "plt.subplot(3,1,3)\n",
    "plt.plot(top1[:,0],top1[:,1],label='top1')\n",
    "plt.xlim(0,loss.shape[0]+10)\n",
    "plt.grid(True)\n",
    "plt.title(\"top1 accuracy\")"
   ]
  }
 ],
 "metadata": {
  "kernelspec": {
   "display_name": "Python 2",
   "language": "python",
   "name": "python2"
  },
  "language_info": {
   "codemirror_mode": {
    "name": "ipython",
    "version": 2
   },
   "file_extension": ".py",
   "mimetype": "text/x-python",
   "name": "python",
   "nbconvert_exporter": "python",
   "pygments_lexer": "ipython2",
   "version": "2.7.12"
  }
 },
 "nbformat": 4,
 "nbformat_minor": 2
}
