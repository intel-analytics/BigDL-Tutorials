{
 "cells": [
  {
   "cell_type": "markdown",
   "metadata": {},
   "source": [
    "# Spark SQL"
   ]
  },
  {
   "cell_type": "markdown",
   "metadata": {},
   "source": [
    "Spark SQL is a Spark module that makes it both easier and more efficient to load and query for structured and semistructred data. We can interact with Spark SQL with SQL and regular Python/Java/Scala code. Internally, Spark SQL uses extra information to optimize the performance of the processing. In following example we will show that how to run SQL queries using Spark SQL."
   ]
  },
  {
   "cell_type": "markdown",
   "metadata": {},
   "source": [
    "At first we need to contruct a DataFrame for a JSON dataset. You can refer to [the official Spark SQL guide](http://spark.apache.org/docs/latest/sql-programming-guide.html#running-sql-queries-programmatically) for more information."
   ]
  },
  {
   "cell_type": "code",
   "execution_count": 1,
   "metadata": {
    "collapsed": false
   },
   "outputs": [
    {
     "name": "stdout",
     "output_type": "stream",
     "text": [
      "+--------------------+----+\n",
      "|             address|name|\n",
      "+--------------------+----+\n",
      "|[Los Angeles,Cali...| Bob|\n",
      "|[Seattle,Washington]|Adam|\n",
      "+--------------------+----+\n",
      "\n"
     ]
    }
   ],
   "source": [
    "json_strings = ['{\"name\":\"Bob\",\"address\":{\"city\":\"Los Angeles\",\"state\":\"California\"}}', \n",
    "               '{\"name\":\"Adam\",\"address\":{\"city\":\"Seattle\",\"state\":\"Washington\"}}']\n",
    "# Defines an RDD from the Python list.\n",
    "peopleRDD = sc.parallelize(json_strings)\n",
    "# Creates an DataFrame from an RDD[String].\n",
    "people = spark.read.json(peopleRDD)\n",
    "people.show()"
   ]
  },
  {
   "cell_type": "markdown",
   "metadata": {},
   "source": [
    "Now we register the DataFrame as a SQL temporary view using the funtion *sql* which returns the result as a *DataFrame*, and then we can run SQL queries."
   ]
  },
  {
   "cell_type": "code",
   "execution_count": 2,
   "metadata": {
    "collapsed": false
   },
   "outputs": [
    {
     "name": "stdout",
     "output_type": "stream",
     "text": [
      "+--------------------+----+\n",
      "|             address|name|\n",
      "+--------------------+----+\n",
      "|[Seattle,Washington]|Adam|\n",
      "+--------------------+----+\n",
      "\n"
     ]
    }
   ],
   "source": [
    "people.createOrReplaceTempView(\"people\")\n",
    "\n",
    "sqlDF = spark.sql(\"SELECT * FROM people\").filter(people['name']==\"Adam\")\n",
    "sqlDF.show()"
   ]
  },
  {
   "cell_type": "markdown",
   "metadata": {},
   "source": [
    "You can learn more information about Spark SQL [here](http://spark.apache.org/docs/latest/sql-programming-guide.html#running-sql-queries-programmatically)."
   ]
  }
 ],
 "metadata": {
  "kernelspec": {
   "display_name": "Python 2",
   "language": "python",
   "name": "python2"
  },
  "language_info": {
   "codemirror_mode": {
    "name": "ipython",
    "version": 2
   },
   "file_extension": ".py",
   "mimetype": "text/x-python",
   "name": "python",
   "nbconvert_exporter": "python",
   "pygments_lexer": "ipython2",
   "version": "2.7.13"
  }
 },
 "nbformat": 4,
 "nbformat_minor": 2
}
